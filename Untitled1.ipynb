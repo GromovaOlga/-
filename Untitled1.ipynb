{
 "cells": [
  {
   "cell_type": "code",
   "execution_count": null,
   "metadata": {},
   "outputs": [],
   "source": [
    "#Домашнее задание к лекции \"Основы Python\""
   ]
  },
  {
   "cell_type": "code",
   "execution_count": null,
   "metadata": {},
   "outputs": [],
   "source": [
    "#Задание №1"
   ]
  },
  {
   "cell_type": "code",
   "execution_count": 1,
   "metadata": {},
   "outputs": [
    {
     "name": "stdout",
     "output_type": "stream",
     "text": [
      "Фраза 1 длинее фразы 2\n"
     ]
    }
   ],
   "source": [
    "phrase_1 = 'Насколько проще было бы писать программы, если бы не заказчики'\n",
    "phrase_2 = '640Кб должно хватить для любых задач. Билл Гейтс (по легенде)'\n",
    "\n",
    "if phrase_1>phrase_2:\n",
    "    print ('Фраза 1 длинее фразы 2')\n",
    "elif phrase_1<phrase_2:\n",
    "    print ('Фраза 2 длинее фразы 1')\n",
    "else:\n",
    "    print ('Фразы равны')"
   ]
  },
  {
   "cell_type": "code",
   "execution_count": null,
   "metadata": {},
   "outputs": [],
   "source": [
    "#Задание №2"
   ]
  },
  {
   "cell_type": "code",
   "execution_count": 2,
   "metadata": {},
   "outputs": [
    {
     "name": "stdout",
     "output_type": "stream",
     "text": [
      "Введите год2020\n",
      "Високосный год\n"
     ]
    }
   ],
   "source": [
    "user_input = int(input('Введите год'))\n",
    "\n",
    "if user_input % 4 == 0:\n",
    "    print ('Високосный год')\n",
    "else:\n",
    "    print ('Обычный год')"
   ]
  },
  {
   "cell_type": "code",
   "execution_count": null,
   "metadata": {},
   "outputs": [],
   "source": [
    "#Задание №3"
   ]
  },
  {
   "cell_type": "code",
   "execution_count": null,
   "metadata": {},
   "outputs": [],
   "source": [
    "user_input2 = input('Введите месяц рождения ')\n",
    "user_input1 = input('Введите день рождения ')\n",
    "if user_input2 == январь:    \n",
    "    if 1 <= user_input1 >=20:\n",
    "        print ('Знак зодиака Козерог')\n",
    "    elif 21 <= user_input1 >= 31:\n",
    "        print ('Знак зодиака Водолей')\n",
    "elif user_input2 == февраль:\n",
    "    if 1 <= user_input1 >=19:\n",
    "        print ('Знак зодиака Водолей')\n",
    "    elif 20 <= user_input1 >= 29:\n",
    "        print ('Знак зодиака Рыбы')\n",
    "elif user_input2 == март:\n",
    "    if 1 <= user_input1 >=20:\n",
    "        print ('Знак зодиака Рыбы')\n",
    "    elif 21 <= user_input1 >= 31:\n",
    "        print ('Знак зодиака Овен')\n",
    "elif user_input2 == апрель:\n",
    "    if 1 <= user_input1 >=20:\n",
    "        print ('Знак зодиака Овен')\n",
    "    elif 21 <= user_input1 >= 30:\n",
    "        print ('Знак зодиака Телец')\n",
    "elif user_input2 == май:\n",
    "    if 1 <= user_input1 >=21:\n",
    "        print ('Знак зодиака Козерог')\n",
    "    elif 22 <= user_input1 >= 31:\n",
    "        print ('Знак зодиака Близнецы')\n",
    "elif user_input2 == июнь:\n",
    "    if 1 <= user_input1 >=21:\n",
    "        print ('Знак зодиака Близнецы')\n",
    "    elif 22 <= user_input1 >= 30:\n",
    "        print ('Знак зодиака Рак')\n",
    "elif user_input2 == июль:\n",
    "    if 1 <= user_input1 >=22:\n",
    "        print ('Знак зодиака Рак')\n",
    "    elif 23 <= user_input1 >= 31:\n",
    "        print ('Знак зодиака Лев')\n",
    "elif user_input2 == август:\n",
    "    if 1 <= user_input1 >=21:\n",
    "        print ('Знак зодиака Лев')\n",
    "    elif 22 <= user_input1 >= 31:\n",
    "        print ('Знак зодиака Дева')\n",
    "elif user_input2 == сентябрь:\n",
    "    if 1 <= user_input1 >=23:\n",
    "        print ('Знак зодиака Дева')\n",
    "    elif 24 <= user_input1 >= 30:\n",
    "        print ('Знак зодиака Весы')\n",
    "elif user_input2 == октябрь:\n",
    "    if 1 <= user_input1 >=23:\n",
    "        print ('Знак зодиака Весы')\n",
    "    elif 24 <= user_input1 >= 31:\n",
    "        print ('Знак зодиака Скорпион')\n",
    "elif user_input2 == ноябрь:\n",
    "    if 1 <= user_input1 >=22:\n",
    "        print ('Знак зодиака Скорпион')\n",
    "    elif 23 <= user_input1 >= 30:\n",
    "        print ('Знак зодиака Стрелец')\n",
    "elif user_input2 == декабрь:\n",
    "    if 1 <= user_input1 >=22:\n",
    "        print ('Знак зодиака Стрелец')\n",
    "    elif 23 <= user_input1 >= 31:\n",
    "        print ('Знак зодиака Козерог')\n",
    "else:\n",
    "    print ('Ошибка ввода')\n"
   ]
  },
  {
   "cell_type": "code",
   "execution_count": null,
   "metadata": {},
   "outputs": [],
   "source": [
    "#Задание4"
   ]
  },
  {
   "cell_type": "code",
   "execution_count": 39,
   "metadata": {},
   "outputs": [
    {
     "name": "stdout",
     "output_type": "stream",
     "text": [
      "Упаковка для лыж\n"
     ]
    }
   ],
   "source": [
    "wigth = 10\n",
    "length = 205\n",
    "height = 5\n",
    "\n",
    "if wigth < 15 and height < 15 and length < 15:\n",
    "    print ('Коробка №1')\n",
    "elif length > 200:\n",
    "        print ('Упаковка для лыж')\n",
    "elif 50 > wigth > 15 or 50 > height > 15 or 50 > length > 15:\n",
    "    print ('Коробка №2')\n",
    "else:\n",
    "    print ('Стандарная упаковка №3')"
   ]
  }
 ],
 "metadata": {
  "kernelspec": {
   "display_name": "Python 3",
   "language": "python",
   "name": "python3"
  },
  "language_info": {
   "codemirror_mode": {
    "name": "ipython",
    "version": 3
   },
   "file_extension": ".py",
   "mimetype": "text/x-python",
   "name": "python",
   "nbconvert_exporter": "python",
   "pygments_lexer": "ipython3",
   "version": "3.8.5"
  }
 },
 "nbformat": 4,
 "nbformat_minor": 4
}
