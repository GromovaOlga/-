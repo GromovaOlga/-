{
 "cells": [
  {
   "cell_type": "code",
   "execution_count": null,
   "metadata": {},
   "outputs": [],
   "source": [
    "#Домашнее задание к лекции \"Основы Python\""
   ]
  },
  {
   "cell_type": "code",
   "execution_count": null,
   "metadata": {},
   "outputs": [],
   "source": [
    "#Задание №1"
   ]
  },
  {
   "cell_type": "code",
   "execution_count": 1,
   "metadata": {},
   "outputs": [
    {
     "name": "stdout",
     "output_type": "stream",
     "text": [
      "Фраза 1 длинее фразы 2\n"
     ]
    }
   ],
   "source": [
    "phrase_1 = 'Насколько проще было бы писать программы, если бы не заказчики'\n",
    "phrase_2 = '640Кб должно хватить для любых задач. Билл Гейтс (по легенде)'\n",
    "\n",
    "if len(phrase_1)>len(phrase_2):\n",
    "    print('Фраза 1 длинее фразы 2')\n",
    "elif len(phrase_1)<len(phrase_2):\n",
    "    print('Фраза 2 длинее фразы 1')\n",
    "else:\n",
    "    print('Фразы равны')"
   ]
  },
  {
   "cell_type": "code",
   "execution_count": null,
   "metadata": {},
   "outputs": [],
   "source": [
    "#Задание №2"
   ]
  },
  {
   "cell_type": "code",
   "execution_count": 6,
   "metadata": {},
   "outputs": [
    {
     "name": "stdout",
     "output_type": "stream",
     "text": [
      "Введите год1000\n",
      "Обычный год\n"
     ]
    }
   ],
   "source": [
    "user_input = int(input('Введите год'))\n",
    "\n",
    "if user_input % 4 == 0 and user_input % 400 == 0 and user_input % 100 != 0:\n",
    "    print ('Високосный год')\n",
    "else:\n",
    "    print ('Обычный год')"
   ]
  },
  {
   "cell_type": "code",
   "execution_count": null,
   "metadata": {},
   "outputs": [],
   "source": [
    "#Задание №3"
   ]
  },
  {
   "cell_type": "code",
   "execution_count": 27,
   "metadata": {},
   "outputs": [
    {
     "name": "stdout",
     "output_type": "stream",
     "text": [
      "Введите месяц рождения август\n",
      "Введите день рождения 10\n",
      "Знак зодиака Лев\n"
     ]
    }
   ],
   "source": [
    "user_input2 = str(input('Введите месяц рождения '))\n",
    "user_input1 = int(input('Введите день рождения '))\n",
    "\n",
    "if user_input2 == 'январь' and 1 <= user_input1 <=20 or (user_input2 == 'декабрь' and 23 <= user_input1 <= 31):\n",
    "        print ('Знак зодиака Козерог')\n",
    "elif (user_input2 == 'февраль' and 1 <= user_input1 <=19) or (user_input2 == 'январь' and 21 <= user_input1 <= 31):\n",
    "        print ('Знак зодиака Водолей')\n",
    "elif (user_input2 == 'февраль' and 20 <= user_input1 <= 29) or (user_input2 == 'март' and 1 <= user_input1 <=20):\n",
    "        print ('Знак зодиака Рыбы')\n",
    "elif (user_input2 == 'март' and 21 <= user_input1 <= 31) or (user_input2 == 'апрель' and 1 <= user_input1 <=20):\n",
    "        print ('Знак зодиака Овен')\n",
    "elif (user_input2 == 'апрель' and 21 <= user_input1 <= 30) or (user_input2 == 'май' and 1 <= user_input1 <=21):\n",
    "        print ('Знак зодиака Телец')\n",
    "elif (user_input2 == 'май' and 22 <= user_input1 <= 31) or (user_input2 == 'июнь' and 1 <= user_input1 <=21):\n",
    "        print ('Знак зодиака Близнецы')\n",
    "elif (user_input2 == 'июнь' and 22 <= user_input1 <= 30) or (user_input2 == 'июль' and 1 <= user_input1 <=22):\n",
    "        print ('Знак зодиака Рак')\n",
    "elif (user_input2 == 'июль' and 23 <= user_input1 <= 31) or (user_input2 == 'август' and 1<= user_input1 <=21):\n",
    "        print ('Знак зодиака Лев')\n",
    "elif (user_input2 == 'август' and 22 <= user_input1 <= 31) or (user_input2 == 'сентябрь' and 1 <= user_input1 <=23):\n",
    "        print ('Знак зодиака Дева')\n",
    "elif (user_input2 == 'сентябрь' and 24 <= user_input1 <= 30) or (user_input2 == 'октябрь' and 1 <= user_input1 <=23):\n",
    "        print ('Знак зодиака Весы')\n",
    "elif (user_input2 == 'октябрь' and 24 <= user_input1 <= 31) or (user_input2 == 'ноябрь' and 1 <= user_input1 <=22):\n",
    "        print ('Знак зодиака Скорпион')\n",
    "elif (user_input2 == 'ноябрь' and 23 <= user_input1 <= 30) or (user_input2 == 'декабрь' and 1 <= user_input1 <=22):\n",
    "        print ('Знак зодиака Стрелец')\n",
    "else:\n",
    "        print ('Ошибка ввода')    \n"
   ]
  },
  {
   "cell_type": "code",
   "execution_count": null,
   "metadata": {},
   "outputs": [],
   "source": [
    "#Задание4"
   ]
  },
  {
   "cell_type": "code",
   "execution_count": 39,
   "metadata": {},
   "outputs": [
    {
     "name": "stdout",
     "output_type": "stream",
     "text": [
      "Упаковка для лыж\n"
     ]
    }
   ],
   "source": [
    "wigth = 10\n",
    "length = 205\n",
    "height = 5\n",
    "\n",
    "if wigth < 15 and height < 15 and length < 15:\n",
    "    print ('Коробка №1')\n",
    "elif length > 200:\n",
    "        print ('Упаковка для лыж')\n",
    "elif 50 > wigth > 15 or 50 > height > 15 or 50 > length > 15:\n",
    "    print ('Коробка №2')\n",
    "else:\n",
    "    print ('Стандарная упаковка №3')"
   ]
  }
 ],
 "metadata": {
  "kernelspec": {
   "display_name": "Python 3",
   "language": "python",
   "name": "python3"
  },
  "language_info": {
   "codemirror_mode": {
    "name": "ipython",
    "version": 3
   },
   "file_extension": ".py",
   "mimetype": "text/x-python",
   "name": "python",
   "nbconvert_exporter": "python",
   "pygments_lexer": "ipython3",
   "version": "3.8.5"
  }
 },
 "nbformat": 4,
 "nbformat_minor": 4
}
